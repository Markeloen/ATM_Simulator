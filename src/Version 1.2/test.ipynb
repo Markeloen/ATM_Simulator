{
 "cells": [
  {
   "cell_type": "code",
   "execution_count": 53,
   "metadata": {},
   "outputs": [],
   "source": [
    "from aotools.fouriertransform import *\n",
    "from aotools import turbulence\n",
    "from Propagation.basic_funcs import *\n",
    "import numpy as np\n",
    "import matplotlib.pyplot as plt"
   ]
  },
  {
   "cell_type": "code",
   "execution_count": 54,
   "metadata": {},
   "outputs": [],
   "source": [
    "def str_func(phz, mask, delta):\n",
    "    N = (phz.shape)[0]\n",
    "\n",
    "    phz = phz * mask\n",
    "\n",
    "\n",
    "    P = ft2(phz, delta)\n",
    "    S = ft2(phz ** 2, delta)\n",
    "    W = ft2(mask, delta)\n",
    "\n",
    "    delta_f = 1/(N*delta)\n",
    "\n",
    "    w2 = ift2(W * np.conj(W), delta_f)\n",
    "\n",
    "\n",
    "    D = (2 * ift2(np.real(S * np.conj(W)) - np.abs(P) ** 2, delta_f) / w2) * mask\n",
    "    \n",
    "    return D\n",
    "\n",
    "    \n",
    "def plot_slice(U, x, new_fig=True):\n",
    "  if new_fig:\n",
    "    plt.figure()\n",
    "  I = np.abs(U[len(U) // 2])\n",
    "\n",
    "  xx = x[len(x) // 2]\n",
    "\n",
    "\n",
    "  plt.plot(xx, I)\n"
   ]
  },
  {
   "cell_type": "code",
   "execution_count": 59,
   "metadata": {},
   "outputs": [
    {
     "data": {
      "image/png": "[encoded data removed]",
      "text/plain": [
       "<Figure size 640x480 with 1 Axes>"
      ]
     },
     "metadata": {},
     "output_type": "display_data"
    }
   ],
   "source": [
    "\n",
    "r0 = 0.1\n",
    "N = 32\n",
    "L = 1 # Grid size\n",
    "delta = L / N\n",
    "\n",
    "xx = np.linspace(-N/2, N/2-1, N) * delta\n",
    "[x, y] = np.meshgrid(xx, xx)\n",
    "\n",
    "\n",
    "theo_struc = 6.88 * (np.abs(xx)/r0) ** (5/3)\n",
    "\n",
    "mask = circ(x, y, L*.9)\n",
    "\n",
    "\n",
    "\n",
    "N_realizations = 1000\n",
    "avg = 0\n",
    "\n",
    "for i in range(N_realizations):\n",
    "  phz = turbulence.ft_sh_phase_screen(r0, N, delta, 30., 0.01)\n",
    "  avg += str_func(phz, mask, delta) / N_realizations\n",
    "\n",
    "\n",
    "\n",
    "\n",
    "plot_slice(avg, x/ r0, False)\n",
    "plt.plot(xx / r0, theo_struc)\n",
    "\n",
    "\n",
    "\n",
    "plt.legend([\"Theory\",\"SH\",\"FT\"])\n",
    "plt.xlim(0, 0.9*max(xx/r0))\n",
    "plt.ylim(0, 100)\n",
    "\n",
    "\n",
    "plt.xlabel(r'$\\frac{| \\Delta r |}{r0}$', fontsize=14, fontweight='bold')\n",
    "plt.ylabel(r'$D_\\phi (\\Delta r)$', fontsize=14, fontweight='bold')\n",
    "\n",
    "\n",
    "plt.show()"
   ]
  },
  {
   "cell_type": "markdown",
   "metadata": {},
   "source": [
    "Checking validaty of PhaseGen"
   ]
  },
  {
   "cell_type": "code",
   "execution_count": 70,
   "metadata": {},
   "outputs": [
    {
     "name": "stdout",
     "output_type": "stream",
     "text": [
      "WARNING:tensorflow:You are casting an input of type complex128 to an incompatible dtype float32.  This will discard the imaginary part and may not be what you intended.\n",
      "WARNING:tensorflow:You are casting an input of type complex128 to an incompatible dtype float32.  This will discard the imaginary part and may not be what you intended.\n",
      "WARNING:tensorflow:You are casting an input of type complex128 to an incompatible dtype float32.  This will discard the imaginary part and may not be what you intended.\n",
      "WARNING:tensorflow:You are casting an input of type complex128 to an incompatible dtype float32.  This will discard the imaginary part and may not be what you intended.\n",
      "WARNING:tensorflow:You are casting an input of type complex128 to an incompatible dtype float32.  This will discard the imaginary part and may not be what you intended.\n",
      "WARNING:tensorflow:You are casting an input of type complex128 to an incompatible dtype float32.  This will discard the imaginary part and may not be what you intended.\n",
      "WARNING:tensorflow:You are casting an input of type complex128 to an incompatible dtype float32.  This will discard the imaginary part and may not be what you intended.\n",
      "WARNING:tensorflow:You are casting an input of type complex128 to an incompatible dtype float32.  This will discard the imaginary part and may not be what you intended.\n",
      "WARNING:tensorflow:You are casting an input of type complex128 to an incompatible dtype float32.  This will discard the imaginary part and may not be what you intended.\n"
     ]
    },
    {
     "name": "stderr",
     "output_type": "stream",
     "text": [
      "2023-12-06 16:21:55.736314: I tensorflow/core/common_runtime/executor.cc:1197] [/device:CPU:0] (DEBUG INFO) Executor start aborting (this does not indicate an error and you can ignore this message): INVALID_ARGUMENT: You must feed a value for placeholder tensor 'random_normal/shape/Const' with dtype int32\n",
      "\t [[{{node random_normal/shape/Const}}]]\n",
      "2023-12-06 16:21:55.736408: I tensorflow/core/common_runtime/executor.cc:1197] [/device:CPU:0] (DEBUG INFO) Executor start aborting (this does not indicate an error and you can ignore this message): INVALID_ARGUMENT: You must feed a value for placeholder tensor 'random_normal/shape/Const' with dtype int32\n",
      "\t [[{{node random_normal/shape/Const}}]]\n",
      "2023-12-06 16:21:55.738421: I tensorflow/core/common_runtime/executor.cc:1197] [/device:CPU:0] (DEBUG INFO) Executor start aborting (this does not indicate an error and you can ignore this message): INVALID_ARGUMENT: You must feed a value for placeholder tensor 'random_normal/shape/Const' with dtype int32\n",
      "\t [[{{node random_normal/shape/Const}}]]\n",
      "2023-12-06 16:21:55.738497: I tensorflow/core/common_runtime/executor.cc:1197] [/device:CPU:0] (DEBUG INFO) Executor start aborting (this does not indicate an error and you can ignore this message): INVALID_ARGUMENT: You must feed a value for placeholder tensor 'random_normal/shape/Const' with dtype int32\n",
      "\t [[{{node random_normal/shape/Const}}]]\n"
     ]
    }
   ],
   "source": [
    "from Propagation.Propagator import *\n",
    "from PhaseScreens.PhaseScreenGen import *\n",
    "\n",
    "\n",
    "N_realizations = 10\n",
    "avg = 0\n",
    "\n",
    "Gen = PhaseScreenGen(r0, N, delta, 30., 0.01)\n",
    "phz = Gen.generate_SH_instance().numpy()\n",
    "\n",
    "\n",
    "for i in range(N_realizations):\n",
    "  Gen = PhaseScreenGen(r0, N, delta, 30., 0.01)\n",
    "  phz = Gen.generate_instance().numpy()\n",
    "  phz = Gen.generate_SH_instance().numpy()\n",
    "  # avg += str_func(phz, mask, delta) / N_realizations\n",
    "\n",
    "plot_slice(avg, x/ r0, False)\n",
    "plt.plot(xx / r0, theo_struc)\n",
    "\n",
    "\n",
    "\n",
    "plt.legend([\"Theory\",\"SH\",\"FT\"])\n",
    "plt.xlim(0, 0.9*max(xx/r0))\n",
    "plt.ylim(0, 100)\n",
    "\n",
    "\n",
    "plt.xlabel(r'$\\frac{| \\Delta r |}{r0}$', fontsize=14, fontweight='bold')\n",
    "plt.ylabel(r'$D_\\phi (\\Delta r)$', fontsize=14, fontweight='bold')\n",
    "\n"
   ]
  }
 ],
 "metadata": {
  "kernelspec": {
   "display_name": "tf",
   "language": "python",
   "name": "python3"
  },
  "language_info": {
   "codemirror_mode": {
    "name": "ipython",
    "version": 3
   },
   "file_extension": ".py",
   "mimetype": "text/x-python",
   "name": "python",
   "nbconvert_exporter": "python",
   "pygments_lexer": "ipython3",
   "version": "3.9.16"
  }
 },
 "nbformat": 4,
 "nbformat_minor": 2
}
