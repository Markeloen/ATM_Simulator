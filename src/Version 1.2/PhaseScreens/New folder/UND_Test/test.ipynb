{
 "cells": [
  {
   "cell_type": "code",
   "execution_count": 2,
   "metadata": {},
   "outputs": [
    {
     "ename": "ModuleNotFoundError",
     "evalue": "No module named 'matplotlib'",
     "output_type": "error",
     "traceback": [
      "\u001b[1;31m---------------------------------------------------------------------------\u001b[0m",
      "\u001b[1;31mModuleNotFoundError\u001b[0m                       Traceback (most recent call last)",
      "\u001b[1;32mc:\\Users\\akhlaghh\\OneDrive - McMaster University\\1. Research\\2. Code\\5. Cleaner Code\\Version 1.2\\PhaseScreens\\New folder\\UND_Test\\test.ipynb Cell 1\u001b[0m line \u001b[0;36m2\n\u001b[0;32m      <a href='vscode-notebook-cell:/c%3A/Users/akhlaghh/OneDrive%20-%20McMaster%20University/1.%20Research/2.%20Code/5.%20Cleaner%20Code/Version%201.2/PhaseScreens/New%20folder/UND_Test/test.ipynb#W0sZmlsZQ%3D%3D?line=0'>1</a>\u001b[0m \u001b[39mimport\u001b[39;00m \u001b[39mnumpy\u001b[39;00m\n\u001b[1;32m----> <a href='vscode-notebook-cell:/c%3A/Users/akhlaghh/OneDrive%20-%20McMaster%20University/1.%20Research/2.%20Code/5.%20Cleaner%20Code/Version%201.2/PhaseScreens/New%20folder/UND_Test/test.ipynb#W0sZmlsZQ%3D%3D?line=1'>2</a>\u001b[0m \u001b[39mimport\u001b[39;00m \u001b[39mmatplotlib\u001b[39;00m\u001b[39m.\u001b[39;00m\u001b[39mpylab\u001b[39;00m \u001b[39mas\u001b[39;00m \u001b[39mplt\u001b[39;00m\n\u001b[0;32m      <a href='vscode-notebook-cell:/c%3A/Users/akhlaghh/OneDrive%20-%20McMaster%20University/1.%20Research/2.%20Code/5.%20Cleaner%20Code/Version%201.2/PhaseScreens/New%20folder/UND_Test/test.ipynb#W0sZmlsZQ%3D%3D?line=2'>3</a>\u001b[0m \u001b[39mfrom\u001b[39;00m \u001b[39mtqdm\u001b[39;00m \u001b[39mimport\u001b[39;00m tqdm, trange, tqdm_notebook\n\u001b[0;32m      <a href='vscode-notebook-cell:/c%3A/Users/akhlaghh/OneDrive%20-%20McMaster%20University/1.%20Research/2.%20Code/5.%20Cleaner%20Code/Version%201.2/PhaseScreens/New%20folder/UND_Test/test.ipynb#W0sZmlsZQ%3D%3D?line=3'>4</a>\u001b[0m \u001b[39mfrom\u001b[39;00m \u001b[39mastropy\u001b[39;00m\u001b[39m.\u001b[39;00m\u001b[39mio\u001b[39;00m \u001b[39mimport\u001b[39;00m fits\n",
      "\u001b[1;31mModuleNotFoundError\u001b[0m: No module named 'matplotlib'"
     ]
    }
   ],
   "source": [
    "import numpy\n",
    "import matplotlib.pylab as plt\n",
    "from tqdm import tqdm, trange, tqdm_notebook\n",
    "from astropy.io import fits\n",
    "# %matplotlib inline\n",
    "\n",
    "import aotools\n",
    "import phasescreen, infinitephasescreen\n",
    "from matplotlib import animation, rc\n",
    "\n"
   ]
  },
  {
   "cell_type": "code",
   "execution_count": null,
   "metadata": {},
   "outputs": [],
   "source": [
    "nx_size = 64 # pixels\n",
    "D = 1. # m \n",
    "pxl_scale = D/nx_size # m/pxl\n",
    "r0 = 0.32 # m \n",
    "L0 = 100 # m \n",
    "l0 = 1e-3 # m\n",
    "\n",
    "phase_screen = phasescreen.ft_phase_screen(r0, nx_size, pxl_scale, L0, l0)\n",
    "\n",
    "plt.figure()\n",
    "plt.imshow(phase_screen)\n",
    "cbar = plt.colorbar()\n",
    "cbar.set_label('Phase deviation (radians)', labelpad=8)"
   ]
  }
 ],
 "metadata": {
  "kernelspec": {
   "display_name": "Python 3",
   "language": "python",
   "name": "python3"
  },
  "language_info": {
   "codemirror_mode": {
    "name": "ipython",
    "version": 3
   },
   "file_extension": ".py",
   "mimetype": "text/x-python",
   "name": "python",
   "nbconvert_exporter": "python",
   "pygments_lexer": "ipython3",
   "version": "3.11.4"
  }
 },
 "nbformat": 4,
 "nbformat_minor": 2
}
